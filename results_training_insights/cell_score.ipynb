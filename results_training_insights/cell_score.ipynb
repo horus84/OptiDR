 {
   "cell_type": "code",
   "execution_count": 23,
   "metadata": {
    "_kg_hide-input": true
   },
   "outputs": [
    {
     "name": "stdout",
     "output_type": "stream",
     "text": [
      "The Training Cohen Kappa Score is: 0.95192\n",
      "The Validation Cohen Kappa Score is: 0.91902\n"
     ]
    }
   ],
   "source": [
    "print(f\"The Training Cohen Kappa Score is: {round(train_score, 5)}\")\n",
    "print(f\"The Validation Cohen Kappa Score is: {round(val_score, 5)}\")"
   ]
  },
