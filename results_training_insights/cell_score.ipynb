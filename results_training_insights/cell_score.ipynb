{
  "cell_type": "code",
  "execution_count": 24,
  "metadata": {
    "_kg_hide-input": true
  },
  "outputs": [
    {
      "name": "stdout",
      "output_type": "stream",
      "text": [
        "Final Train Loss   : 0.1570\n",
        "Final Valid Loss   : 0.1806\n",
        "Precision (macro)  : 0.87231\n",
        "Recall    (macro)  : 0.85144\n",
        "F1 Score  (macro)  : 0.86071\n"
      ]
    }
  ],
  "source": [
    "from sklearn.metrics import precision_score, recall_score, f1_score\n",
    "\n",
    "final_train_loss = 0.1570\n",
    "final_valid_loss = 0.1806\n",
    "\n",
    "model_conv.eval()\n",
    "y_true, y_pred = [], []\n",
    "with torch.no_grad():\n",
    "    for inputs, labels in valid_loader:\n",
    "        inputs, labels = inputs.to(device), labels.to(device)\n",
    "        outputs = model_conv(inputs)\n",
    "        preds = (outputs[:, -1] > 0.5).long().cpu().numpy()\n",
    "        y_pred.extend(preds)\n",
    "        y_true.extend(labels.cpu().numpy())\n",
    "\n",
    "precision = precision_score(y_true, y_pred, average='macro', zero_division=0)\n",
    "recall    = recall_score(y_true, y_pred, average='macro', zero_division=0)\n",
    "f1        = f1_score(y_true, y_pred, average='macro', zero_division=0)\n",
    "\n",
    "print(f\"Final Train Loss   : {final_train_loss:.4f}\")\n",
    "print(f\"Final Valid Loss   : {final_valid_loss:.4f}\")\n",
    "print(f\"Precision (macro)  : {precision:.5f}\")\n",
    "print(f\"Recall    (macro)  : {recall:.5f}\")\n",
    "print(f\"F1 Score  (macro)  : {f1:.5f}\")"
  ]
}
